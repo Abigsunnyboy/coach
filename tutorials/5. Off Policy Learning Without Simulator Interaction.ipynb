{
 "cells": [
  {
   "cell_type": "markdown",
   "metadata": {},
   "source": [
    "Load experience and train a Double DQN agent, without interacting with the simulator"
   ]
  },
  {
   "cell_type": "code",
   "execution_count": null,
   "metadata": {},
   "outputs": [],
   "source": [
    "from rl_coach.core_types import EnvironmentSteps, TrainingSteps\n",
    "from rl_coach.base_parameters import VisualizationParameters\n",
    "from rl_coach.environments.gym_environment import Atari\n",
    "from rl_coach.agents.ddqn_agent import DDQNAgentParameters\n",
    "from rl_coach.graph_managers.basic_rl_graph_manager import BasicRLGraphManager\n",
    "from rl_coach.graph_managers.graph_manager import SimpleSchedule\n",
    "\n",
    "\n",
    "agent_params = DDQNAgentParameters()\n",
    "agent_params.algorithm.num_consecutive_playing_steps = EnvironmentSteps(0)\n",
    "agent_params.memory.load_memory_from_file_path = 'experience_montezuma_first_screen.p'\n",
    "\n",
    "env_params = Atari(level='MontezumaRevenge-v4')\n",
    "\n",
    "graph_manager = BasicRLGraphManager(agent_params=agent_params, env_params=env_params,\n",
    "                                              schedule_params=SimpleSchedule(), vis_params=VisualizationParameters())\n",
    "\n",
    "graph_manager.train(TrainingSteps(5000))"
   ]
  },
  {
   "cell_type": "markdown",
   "metadata": {},
   "source": [
    "Evaluate the trained agent"
   ]
  },
  {
   "cell_type": "code",
   "execution_count": null,
   "metadata": {},
   "outputs": [],
   "source": [
    "graph_manager.evaluate(EnvironmentSteps(1000), keep_networks_in_sync=True)"
   ]
  }
 ],
 "metadata": {
  "kernelspec": {
   "display_name": "Python 3",
   "language": "python",
   "name": "python3"
  },
  "language_info": {
   "codemirror_mode": {
    "name": "ipython",
    "version": 3
   },
   "file_extension": ".py",
   "mimetype": "text/x-python",
   "name": "python",
   "nbconvert_exporter": "python",
   "pygments_lexer": "ipython3",
   "version": "3.5.2"
  }
 },
 "nbformat": 4,
 "nbformat_minor": 2
}
